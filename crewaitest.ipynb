{
  "nbformat": 4,
  "nbformat_minor": 0,
  "metadata": {
    "colab": {
      "provenance": [],
      "authorship_tag": "ABX9TyMYL3AzsbFI5m4cvbgbuAqU",
      "include_colab_link": true
    },
    "kernelspec": {
      "name": "python3",
      "display_name": "Python 3"
    },
    "language_info": {
      "name": "python"
    }
  },
  "cells": [
    {
      "cell_type": "markdown",
      "metadata": {
        "id": "view-in-github",
        "colab_type": "text"
      },
      "source": [
        "<a href=\"https://colab.research.google.com/github/sumant1122/Multi-Agent-CrewAI/blob/main/crewaitest.ipynb\" target=\"_parent\"><img src=\"https://colab.research.google.com/assets/colab-badge.svg\" alt=\"Open In Colab\"/></a>"
      ]
    },
    {
      "cell_type": "code",
      "source": [
        "!pip install crewai"
      ],
      "metadata": {
        "collapsed": true,
        "id": "M5t9Yr60s1eq"
      },
      "execution_count": null,
      "outputs": []
    },
    {
      "cell_type": "code",
      "source": [
        "!pip install langchain"
      ],
      "metadata": {
        "id": "uYn4f06EtHkY"
      },
      "execution_count": null,
      "outputs": []
    },
    {
      "cell_type": "code",
      "source": [
        "!pip install langchain-google-genai"
      ],
      "metadata": {
        "id": "6ZzfCEBgtaja"
      },
      "execution_count": null,
      "outputs": []
    },
    {
      "cell_type": "code",
      "execution_count": null,
      "metadata": {
        "id": "2RlenxbZsJx6"
      },
      "outputs": [],
      "source": [
        "import os\n",
        "from crewai import Agent, Task, Crew, Process\n",
        "from langchain_google_genai import ChatGoogleGenerativeAI"
      ]
    },
    {
      "cell_type": "code",
      "source": [
        "llm = ChatGoogleGenerativeAI(model=\"gemini-pro\",verbose = True,temperature = 0.1,google_api_key=\"YOUR_GOOGLE_API_KEY\")"
      ],
      "metadata": {
        "id": "W_JdZ30gszef"
      },
      "execution_count": null,
      "outputs": []
    },
    {
      "cell_type": "code",
      "source": [
        "researcher = Agent(\n",
        "role='Senior Research Analyst',\n",
        "goal='Uncover cutting-edge developments in AI and data science',\n",
        "backstory=\"\"\"You work at a leading tech think tank.\n",
        "Your expertise lies in identifying emerging trends.\n",
        "You have a knack for dissecting complex data and presenting\n",
        "actionable insights.\"\"\",\n",
        "verbose=True,\n",
        "llm = llm,\n",
        "allow_delegation=False,\n",
        "tools=[],\n",
        ")\n",
        "\n",
        "writer = Agent(\n",
        "role='Tech Content Strategist',\n",
        "goal='Craft compelling content on tech advancements',\n",
        "backstory=\"\"\"You are a renowned Content Strategist, known for\n",
        "your insightful and engaging articles.\n",
        "You transform complex concepts into compelling narratives.\"\"\",\n",
        "verbose=True,\n",
        "allow_delegation=True,\n",
        "llm = llm,\n",
        "tools=[],\n",
        ")\n",
        "\n",
        "task1 = Task(\n",
        "description=\"\"\"Conduct a comprehensive analysis of the latest advancements in AI in 2024.\n",
        "Identify key trends, breakthrough technologies, and potential industry impacts.\n",
        "Your final answer MUST be a full analysis report\"\"\",\n",
        "expected_output='A comprehensive 3 paragraphs long report on the latest AI trends.',\n",
        "agent=researcher\n",
        ")\n",
        "\n",
        "task2 = Task(\n",
        "description=\"\"\"Using the insights provided, develop an engaging blog\n",
        "post that highlights the most significant AI advancements.\n",
        "Your post should be informative yet accessible, catering to a tech-savvy audience.\n",
        "Make it sound cool, avoid complex words so it doesn't sound like AI.\n",
        "\"\"\",\n",
        "expected_output='Your final answer MUST be the full blog post of at least 4 paragraphs.',\n",
        "agent=writer\n",
        ")"
      ],
      "metadata": {
        "id": "2qRbu49ztuP8"
      },
      "execution_count": null,
      "outputs": []
    },
    {
      "cell_type": "code",
      "source": [
        "crew = Crew(\n",
        "agents=[researcher, writer],\n",
        "tasks=[task1, task2],\n",
        "verbose=2,\n",
        ")"
      ],
      "metadata": {
        "id": "SDpSs53NuXO7"
      },
      "execution_count": null,
      "outputs": []
    },
    {
      "cell_type": "code",
      "source": [
        "result = crew.kickoff()\n",
        "\n",
        "print(\"######################\")\n",
        "print(result)"
      ],
      "metadata": {
        "colab": {
          "base_uri": "https://localhost:8080/"
        },
        "id": "CdLBaIIpubJG",
        "outputId": "d2a68327-b065-44bf-d1a1-138cf9d99b52"
      },
      "execution_count": null,
      "outputs": [
        {
          "output_type": "stream",
          "name": "stdout",
          "text": [
            "\u001b[1m\u001b[95m [DEBUG]: == Working Agent: Senior Research Analyst\u001b[00m\n",
            "\u001b[1m\u001b[95m [INFO]: == Starting Task: Conduct a comprehensive analysis of the latest advancements in AI in 2024.\n",
            "Identify key trends, breakthrough technologies, and potential industry impacts.\n",
            "Your final answer MUST be a full analysis report\u001b[00m\n",
            "\n",
            "\n",
            "\u001b[1m> Entering new CrewAgentExecutor chain...\u001b[0m\n",
            "\u001b[32;1m\u001b[1;3mThought: I now can give a great answer\n",
            "Final Answer: \n",
            "\n",
            "**Comprehensive Analysis of the Latest Advancements in AI in 2024**\n",
            "\n",
            "**Introduction**\n",
            "\n",
            "The year 2024 has witnessed significant advancements in the field of Artificial Intelligence (AI). From groundbreaking breakthroughs in natural language processing to the emergence of novel AI-powered applications, the AI landscape is rapidly evolving. This report provides a comprehensive analysis of the latest AI trends, breakthrough technologies, and their potential industry impacts.\n",
            "\n",
            "**Key Trends and Breakthrough Technologies**\n",
            "\n",
            "One of the most notable trends in 2024 is the increasing adoption of generative AI models. These models, such as GPT-4 and DALL-E 2, have demonstrated remarkable capabilities in generating text, images, and other forms of content. They have the potential to revolutionize industries such as media, entertainment, and education.\n",
            "\n",
            "Another key trend is the rise of AI-powered automation. Robotic process automation (RPA) and other AI-driven technologies are automating repetitive and time-consuming tasks, freeing up human workers to focus on more strategic and creative endeavors. This trend is expected to have a major impact on industries such as manufacturing, healthcare, and finance.\n",
            "\n",
            "**Industry Impacts**\n",
            "\n",
            "The advancements in AI are having a profound impact on various industries. In healthcare, AI-powered systems are assisting in disease diagnosis, drug discovery, and personalized treatment plans. In finance, AI is being used for fraud detection, risk assessment, and algorithmic trading. In retail, AI is enhancing customer experiences through personalized recommendations and automated customer service.\n",
            "\n",
            "**Conclusion**\n",
            "\n",
            "The year 2024 has been a transformative year for AI. The emergence of generative AI models, the rise of AI-powered automation, and the increasing adoption of AI across industries are shaping the future of technology and society. As AI continues to evolve, it is essential for businesses and individuals to stay abreast of the latest trends and advancements to harness its full potential and mitigate potential risks.\u001b[0m\n",
            "\n",
            "\u001b[1m> Finished chain.\u001b[0m\n",
            "\u001b[1m\u001b[92m [DEBUG]: == [Senior Research Analyst] Task output: **Comprehensive Analysis of the Latest Advancements in AI in 2024**\n",
            "\n",
            "**Introduction**\n",
            "\n",
            "The year 2024 has witnessed significant advancements in the field of Artificial Intelligence (AI). From groundbreaking breakthroughs in natural language processing to the emergence of novel AI-powered applications, the AI landscape is rapidly evolving. This report provides a comprehensive analysis of the latest AI trends, breakthrough technologies, and their potential industry impacts.\n",
            "\n",
            "**Key Trends and Breakthrough Technologies**\n",
            "\n",
            "One of the most notable trends in 2024 is the increasing adoption of generative AI models. These models, such as GPT-4 and DALL-E 2, have demonstrated remarkable capabilities in generating text, images, and other forms of content. They have the potential to revolutionize industries such as media, entertainment, and education.\n",
            "\n",
            "Another key trend is the rise of AI-powered automation. Robotic process automation (RPA) and other AI-driven technologies are automating repetitive and time-consuming tasks, freeing up human workers to focus on more strategic and creative endeavors. This trend is expected to have a major impact on industries such as manufacturing, healthcare, and finance.\n",
            "\n",
            "**Industry Impacts**\n",
            "\n",
            "The advancements in AI are having a profound impact on various industries. In healthcare, AI-powered systems are assisting in disease diagnosis, drug discovery, and personalized treatment plans. In finance, AI is being used for fraud detection, risk assessment, and algorithmic trading. In retail, AI is enhancing customer experiences through personalized recommendations and automated customer service.\n",
            "\n",
            "**Conclusion**\n",
            "\n",
            "The year 2024 has been a transformative year for AI. The emergence of generative AI models, the rise of AI-powered automation, and the increasing adoption of AI across industries are shaping the future of technology and society. As AI continues to evolve, it is essential for businesses and individuals to stay abreast of the latest trends and advancements to harness its full potential and mitigate potential risks.\n",
            "\n",
            "\u001b[00m\n",
            "\u001b[1m\u001b[95m [DEBUG]: == Working Agent: Tech Content Strategist\u001b[00m\n",
            "\u001b[1m\u001b[95m [INFO]: == Starting Task: Using the insights provided, develop an engaging blog\n",
            "post that highlights the most significant AI advancements.\n",
            "Your post should be informative yet accessible, catering to a tech-savvy audience.\n",
            "Make it sound cool, avoid complex words so it doesn't sound like AI.\n",
            "\u001b[00m\n",
            "\n",
            "\n",
            "\u001b[1m> Entering new CrewAgentExecutor chain...\u001b[0m\n",
            "\u001b[32;1m\u001b[1;3m\u001b[0m\u001b[32;1m\u001b[1;3m\u001b[0m\u001b[32;1m\u001b[1;3mThought: I now can give a great answer\n",
            "Final Answer: **AI Advancements: Reshaping the Future of Tech**\n",
            "\n",
            "In the realm of technology, 2024 has been a year of remarkable progress for Artificial Intelligence (AI). From the advent of generative AI models to the rise of AI-powered automation, the AI landscape is undergoing a rapid transformation.\n",
            "\n",
            "**Generative AI: Unleashing Creativity**\n",
            "\n",
            "Generative AI models, such as GPT-4 and DALL-E 2, have taken the world by storm with their ability to generate text, images, and other forms of content. These models are revolutionizing industries like media, entertainment, and education. Imagine a world where AI can create personalized stories, design stunning visuals, and even compose music. The possibilities are endless.\n",
            "\n",
            "**AI Automation: Empowering Efficiency**\n",
            "\n",
            "AI-powered automation is another game-changer. Robotic process automation (RPA) and other AI-driven technologies are automating repetitive and time-consuming tasks, freeing up human workers to focus on more strategic and creative endeavors. This trend is transforming industries like manufacturing, healthcare, and finance, allowing businesses to operate more efficiently and effectively.\n",
            "\n",
            "**AI's Impact on Industries**\n",
            "\n",
            "The advancements in AI are having a profound impact across various sectors. In healthcare, AI-powered systems are assisting in disease diagnosis, drug discovery, and personalized treatment plans. In finance, AI is being used for fraud detection, risk assessment, and algorithmic trading. In retail, AI is enhancing customer experiences through personalized recommendations and automated customer service.\n",
            "\n",
            "As AI continues to evolve, it's crucial for businesses and individuals to embrace these advancements. By harnessing the power of AI, we can unlock new possibilities, drive innovation, and shape the future of technology and society.\u001b[0m\n",
            "\n",
            "\u001b[1m> Finished chain.\u001b[0m\n",
            "\u001b[1m\u001b[92m [DEBUG]: == [Tech Content Strategist] Task output: **AI Advancements: Reshaping the Future of Tech**\n",
            "\n",
            "In the realm of technology, 2024 has been a year of remarkable progress for Artificial Intelligence (AI). From the advent of generative AI models to the rise of AI-powered automation, the AI landscape is undergoing a rapid transformation.\n",
            "\n",
            "**Generative AI: Unleashing Creativity**\n",
            "\n",
            "Generative AI models, such as GPT-4 and DALL-E 2, have taken the world by storm with their ability to generate text, images, and other forms of content. These models are revolutionizing industries like media, entertainment, and education. Imagine a world where AI can create personalized stories, design stunning visuals, and even compose music. The possibilities are endless.\n",
            "\n",
            "**AI Automation: Empowering Efficiency**\n",
            "\n",
            "AI-powered automation is another game-changer. Robotic process automation (RPA) and other AI-driven technologies are automating repetitive and time-consuming tasks, freeing up human workers to focus on more strategic and creative endeavors. This trend is transforming industries like manufacturing, healthcare, and finance, allowing businesses to operate more efficiently and effectively.\n",
            "\n",
            "**AI's Impact on Industries**\n",
            "\n",
            "The advancements in AI are having a profound impact across various sectors. In healthcare, AI-powered systems are assisting in disease diagnosis, drug discovery, and personalized treatment plans. In finance, AI is being used for fraud detection, risk assessment, and algorithmic trading. In retail, AI is enhancing customer experiences through personalized recommendations and automated customer service.\n",
            "\n",
            "As AI continues to evolve, it's crucial for businesses and individuals to embrace these advancements. By harnessing the power of AI, we can unlock new possibilities, drive innovation, and shape the future of technology and society.\n",
            "\n",
            "\u001b[00m\n",
            "######################\n",
            "**AI Advancements: Reshaping the Future of Tech**\n",
            "\n",
            "In the realm of technology, 2024 has been a year of remarkable progress for Artificial Intelligence (AI). From the advent of generative AI models to the rise of AI-powered automation, the AI landscape is undergoing a rapid transformation.\n",
            "\n",
            "**Generative AI: Unleashing Creativity**\n",
            "\n",
            "Generative AI models, such as GPT-4 and DALL-E 2, have taken the world by storm with their ability to generate text, images, and other forms of content. These models are revolutionizing industries like media, entertainment, and education. Imagine a world where AI can create personalized stories, design stunning visuals, and even compose music. The possibilities are endless.\n",
            "\n",
            "**AI Automation: Empowering Efficiency**\n",
            "\n",
            "AI-powered automation is another game-changer. Robotic process automation (RPA) and other AI-driven technologies are automating repetitive and time-consuming tasks, freeing up human workers to focus on more strategic and creative endeavors. This trend is transforming industries like manufacturing, healthcare, and finance, allowing businesses to operate more efficiently and effectively.\n",
            "\n",
            "**AI's Impact on Industries**\n",
            "\n",
            "The advancements in AI are having a profound impact across various sectors. In healthcare, AI-powered systems are assisting in disease diagnosis, drug discovery, and personalized treatment plans. In finance, AI is being used for fraud detection, risk assessment, and algorithmic trading. In retail, AI is enhancing customer experiences through personalized recommendations and automated customer service.\n",
            "\n",
            "As AI continues to evolve, it's crucial for businesses and individuals to embrace these advancements. By harnessing the power of AI, we can unlock new possibilities, drive innovation, and shape the future of technology and society.\n"
          ]
        }
      ]
    }
  ]
}